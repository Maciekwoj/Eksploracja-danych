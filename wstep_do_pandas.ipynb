{
  "nbformat": 4,
  "nbformat_minor": 0,
  "metadata": {
    "colab": {
      "provenance": []
    },
    "kernelspec": {
      "name": "python3",
      "display_name": "Python 3"
    },
    "language_info": {
      "name": "python"
    }
  },
  "cells": [
    {
      "cell_type": "code",
      "execution_count": 1,
      "metadata": {
        "id": "axJo4_kin-te"
      },
      "outputs": [],
      "source": [
        "import pandas as pd\n",
        "import matplotlib.pyplot as plt\n",
        "\n",
        "# Ustawienia dla polskich znaków\n",
        "plt.rcParams['font.sans-serif'] = ['DejaVu Sans']"
      ]
    },
    {
      "cell_type": "markdown",
      "source": [
        "# **Wstęp do pandas**\n",
        "\n",
        "`Pandas` to biblioteka w Pythonie, która umożliwia łatwe i efektywne manipulowanie oraz analizowanie danych.\n",
        "\n",
        "Jest szczególnie przydatna do pracy z danymi tabelarycznymi, podobnymi do tych w arkuszach kalkulacyjnych."
      ],
      "metadata": {
        "id": "VUQf4pf-B8Xc"
      }
    },
    {
      "cell_type": "markdown",
      "source": [
        "## CZĘŚĆ 1: Tworzenie DataFrame z polskimi danymi"
      ],
      "metadata": {
        "id": "-psmyar2vZcl"
      }
    },
    {
      "cell_type": "code",
      "source": [
        "# Przykład 1: Dane o polskich miastach\n",
        "data_miasta = {\n",
        "    'Miasto': ['Warszawa', 'Kraków', 'Łódź', 'Wrocław', 'Poznań', 'Gdańsk', 'Szczecin'],\n",
        "    'Województwo': ['mazowieckie', 'małopolskie', 'łódzkie', 'dolnośląskie',\n",
        "                    'wielkopolskie', 'pomorskie', 'zachodniopomorskie'],\n",
        "    'Populacja': [1863056, 779966, 672185, 643782, 532048, 470907, 395513],\n",
        "    'Powierzchnia_km2': [517, 327, 293, 293, 262, 262, 301],\n",
        "    'Rok_nadania_praw': [1413, 1257, 1423, 1242, 1253, 1263, 1243]\n",
        "}\n",
        "\n",
        "miasta = pd.DataFrame(data_miasta)\n",
        "print(miasta)"
      ],
      "metadata": {
        "colab": {
          "base_uri": "https://localhost:8080/"
        },
        "id": "Ya8Ff5J1vfGu",
        "outputId": "5f8c1139-2c46-45a1-9141-af9d56ea13a7"
      },
      "execution_count": 2,
      "outputs": [
        {
          "output_type": "stream",
          "name": "stdout",
          "text": [
            "     Miasto         Województwo  Populacja  Powierzchnia_km2  Rok_nadania_praw\n",
            "0  Warszawa         mazowieckie    1863056               517              1413\n",
            "1    Kraków         małopolskie     779966               327              1257\n",
            "2      Łódź             łódzkie     672185               293              1423\n",
            "3   Wrocław        dolnośląskie     643782               293              1242\n",
            "4    Poznań       wielkopolskie     532048               262              1253\n",
            "5    Gdańsk           pomorskie     470907               262              1263\n",
            "6  Szczecin  zachodniopomorskie     395513               301              1243\n"
          ]
        }
      ]
    },
    {
      "cell_type": "markdown",
      "source": [
        "## CZĘŚĆ 2: PODSTAWOWE METODY INSPEKCJI DANYCH"
      ],
      "metadata": {
        "id": "Q8-QyY_ZvyTD"
      }
    },
    {
      "cell_type": "code",
      "source": [
        "print(\">>> .head() - Pierwsze 5 wierszy (lub inna liczba)\")\n",
        "print(miasta.head(3))"
      ],
      "metadata": {
        "colab": {
          "base_uri": "https://localhost:8080/"
        },
        "id": "EUmSekXsv1Ql",
        "outputId": "00022a9e-85a5-4e01-a28b-a66cff1e8aab"
      },
      "execution_count": 3,
      "outputs": [
        {
          "output_type": "stream",
          "name": "stdout",
          "text": [
            ">>> .head() - Pierwsze 5 wierszy (lub inna liczba)\n",
            "     Miasto  Województwo  Populacja  Powierzchnia_km2  Rok_nadania_praw\n",
            "0  Warszawa  mazowieckie    1863056               517              1413\n",
            "1    Kraków  małopolskie     779966               327              1257\n",
            "2      Łódź      łódzkie     672185               293              1423\n"
          ]
        }
      ]
    },
    {
      "cell_type": "code",
      "source": [
        "print(\">>> .info() - Informacje o strukturze danych\")\n",
        "miasta.info()"
      ],
      "metadata": {
        "colab": {
          "base_uri": "https://localhost:8080/"
        },
        "id": "9e-Ro2pJv9Ed",
        "outputId": "e7a6814e-eb7a-445a-e494-40f0c7951234"
      },
      "execution_count": 4,
      "outputs": [
        {
          "output_type": "stream",
          "name": "stdout",
          "text": [
            ">>> .info() - Informacje o strukturze danych\n",
            "<class 'pandas.core.frame.DataFrame'>\n",
            "RangeIndex: 7 entries, 0 to 6\n",
            "Data columns (total 5 columns):\n",
            " #   Column            Non-Null Count  Dtype \n",
            "---  ------            --------------  ----- \n",
            " 0   Miasto            7 non-null      object\n",
            " 1   Województwo       7 non-null      object\n",
            " 2   Populacja         7 non-null      int64 \n",
            " 3   Powierzchnia_km2  7 non-null      int64 \n",
            " 4   Rok_nadania_praw  7 non-null      int64 \n",
            "dtypes: int64(3), object(2)\n",
            "memory usage: 412.0+ bytes\n"
          ]
        }
      ]
    },
    {
      "cell_type": "code",
      "source": [
        "print(\">>> .shape - Wymiary DataFrame (wiersze, kolumny)\")\n",
        "print(f\"Nasz DataFrame ma: {miasta.shape[0]} wierszy i {miasta.shape[1]} kolumn\")"
      ],
      "metadata": {
        "colab": {
          "base_uri": "https://localhost:8080/"
        },
        "id": "ao1MUs1Wv9Ny",
        "outputId": "50cab6f5-eb0c-4c54-f1a0-d793bc1fa450"
      },
      "execution_count": 5,
      "outputs": [
        {
          "output_type": "stream",
          "name": "stdout",
          "text": [
            ">>> .shape - Wymiary DataFrame (wiersze, kolumny)\n",
            "Nasz DataFrame ma: 7 wierszy i 5 kolumn\n"
          ]
        }
      ]
    },
    {
      "cell_type": "code",
      "source": [
        "print(\">>> .describe() - Statystyki opisowe dla kolumn numerycznych\")\n",
        "print(miasta.describe())"
      ],
      "metadata": {
        "colab": {
          "base_uri": "https://localhost:8080/"
        },
        "id": "Wz6fsZvNv9aI",
        "outputId": "1a965853-0b26-45af-bfab-c0490dfc82db"
      },
      "execution_count": 6,
      "outputs": [
        {
          "output_type": "stream",
          "name": "stdout",
          "text": [
            ">>> .describe() - Statystyki opisowe dla kolumn numerycznych\n",
            "          Populacja  Powierzchnia_km2  Rok_nadania_praw\n",
            "count  7.000000e+00          7.000000          7.000000\n",
            "mean   7.653510e+05        322.142857       1299.142857\n",
            "std    5.010882e+05         88.856492         81.581102\n",
            "min    3.955130e+05        262.000000       1242.000000\n",
            "25%    5.014775e+05        277.500000       1248.000000\n",
            "50%    6.437820e+05        293.000000       1257.000000\n",
            "75%    7.260755e+05        314.000000       1338.000000\n",
            "max    1.863056e+06        517.000000       1423.000000\n"
          ]
        }
      ]
    },
    {
      "cell_type": "code",
      "source": [
        "print(\">>> .columns - Nazwy kolumn\")\n",
        "print(miasta.columns.tolist())"
      ],
      "metadata": {
        "colab": {
          "base_uri": "https://localhost:8080/"
        },
        "id": "4cb6YFDTwEZh",
        "outputId": "34735eae-6d6f-4e81-bf34-6ffcf47bceaa"
      },
      "execution_count": 7,
      "outputs": [
        {
          "output_type": "stream",
          "name": "stdout",
          "text": [
            ">>> .columns - Nazwy kolumn\n",
            "['Miasto', 'Województwo', 'Populacja', 'Powierzchnia_km2', 'Rok_nadania_praw']\n"
          ]
        }
      ]
    },
    {
      "cell_type": "code",
      "source": [
        "print(\">>> .index - Indeks wierszy\")\n",
        "print(miasta.index)"
      ],
      "metadata": {
        "colab": {
          "base_uri": "https://localhost:8080/"
        },
        "id": "umYrBBs6wIVf",
        "outputId": "4d73670a-18ed-47a7-ed4f-30e18bdbbae4"
      },
      "execution_count": 8,
      "outputs": [
        {
          "output_type": "stream",
          "name": "stdout",
          "text": [
            ">>> .index - Indeks wierszy\n",
            "RangeIndex(start=0, stop=7, step=1)\n"
          ]
        }
      ]
    },
    {
      "cell_type": "markdown",
      "source": [
        "## CZĘŚĆ 3: SORTOWANIE DANYCH"
      ],
      "metadata": {
        "id": "irKnwUdWwmZw"
      }
    },
    {
      "cell_type": "code",
      "source": [
        "print(\"1. Sortowanie rosnąco po populacji:\")\n",
        "print(miasta.sort_values(\"Populacja\").head())"
      ],
      "metadata": {
        "colab": {
          "base_uri": "https://localhost:8080/"
        },
        "id": "YI5jg5ebwqtS",
        "outputId": "53d66b3c-749d-4772-ace6-38bbcc690e34"
      },
      "execution_count": 9,
      "outputs": [
        {
          "output_type": "stream",
          "name": "stdout",
          "text": [
            "1. Sortowanie rosnąco po populacji:\n",
            "     Miasto         Województwo  Populacja  Powierzchnia_km2  Rok_nadania_praw\n",
            "6  Szczecin  zachodniopomorskie     395513               301              1243\n",
            "5    Gdańsk           pomorskie     470907               262              1263\n",
            "4    Poznań       wielkopolskie     532048               262              1253\n",
            "3   Wrocław        dolnośląskie     643782               293              1242\n",
            "2      Łódź             łódzkie     672185               293              1423\n"
          ]
        }
      ]
    },
    {
      "cell_type": "code",
      "source": [
        "print(\"2. Sortowanie malejąco po populacji:\")\n",
        "print(miasta.sort_values(\"Populacja\", ascending=False).head())"
      ],
      "metadata": {
        "colab": {
          "base_uri": "https://localhost:8080/"
        },
        "id": "uV2DJLacwx0-",
        "outputId": "eb254df1-6333-45da-aff2-599376090971"
      },
      "execution_count": 10,
      "outputs": [
        {
          "output_type": "stream",
          "name": "stdout",
          "text": [
            "2. Sortowanie malejąco po populacji:\n",
            "     Miasto    Województwo  Populacja  Powierzchnia_km2  Rok_nadania_praw\n",
            "0  Warszawa    mazowieckie    1863056               517              1413\n",
            "1    Kraków    małopolskie     779966               327              1257\n",
            "2      Łódź        łódzkie     672185               293              1423\n",
            "3   Wrocław   dolnośląskie     643782               293              1242\n",
            "4    Poznań  wielkopolskie     532048               262              1253\n"
          ]
        }
      ]
    },
    {
      "cell_type": "code",
      "source": [
        "print(\"3. Sortowanie według wielu kolumn:\")\n",
        "print(\"   (Województwo rosnąco, potem Populacja malejąco)\")\n",
        "print(miasta.sort_values([\"Województwo\", \"Populacja\"],\n",
        "                         ascending=[True, False]))"
      ],
      "metadata": {
        "colab": {
          "base_uri": "https://localhost:8080/"
        },
        "id": "6xzmln4Uwx-g",
        "outputId": "52194fce-c2a4-4735-c141-607c4d910eef"
      },
      "execution_count": 11,
      "outputs": [
        {
          "output_type": "stream",
          "name": "stdout",
          "text": [
            "3. Sortowanie według wielu kolumn:\n",
            "   (Województwo rosnąco, potem Populacja malejąco)\n",
            "     Miasto         Województwo  Populacja  Powierzchnia_km2  Rok_nadania_praw\n",
            "3   Wrocław        dolnośląskie     643782               293              1242\n",
            "0  Warszawa         mazowieckie    1863056               517              1413\n",
            "1    Kraków         małopolskie     779966               327              1257\n",
            "5    Gdańsk           pomorskie     470907               262              1263\n",
            "4    Poznań       wielkopolskie     532048               262              1253\n",
            "6  Szczecin  zachodniopomorskie     395513               301              1243\n",
            "2      Łódź             łódzkie     672185               293              1423\n"
          ]
        }
      ]
    },
    {
      "cell_type": "markdown",
      "source": [
        "## CZĘŚĆ 4: WYBIERANIE KOLUMN"
      ],
      "metadata": {
        "id": "GduuSU2iyOCb"
      }
    },
    {
      "cell_type": "code",
      "source": [
        "print(\"1. Jedna kolumna (zwraca Series):\")\n",
        "print(miasta[\"Miasto\"])\n",
        "print(f\"\\nTyp: {type(miasta['Miasto'])}\")"
      ],
      "metadata": {
        "colab": {
          "base_uri": "https://localhost:8080/"
        },
        "id": "OLz7moDLyTju",
        "outputId": "027ec8e1-d9dd-4fe1-9496-2d2db8181d1b"
      },
      "execution_count": 12,
      "outputs": [
        {
          "output_type": "stream",
          "name": "stdout",
          "text": [
            "1. Jedna kolumna (zwraca Series):\n",
            "0    Warszawa\n",
            "1      Kraków\n",
            "2        Łódź\n",
            "3     Wrocław\n",
            "4      Poznań\n",
            "5      Gdańsk\n",
            "6    Szczecin\n",
            "Name: Miasto, dtype: object\n",
            "\n",
            "Typ: <class 'pandas.core.series.Series'>\n"
          ]
        }
      ]
    },
    {
      "cell_type": "code",
      "source": [
        "print(\"2. Wiele kolumn (zwraca DataFrame):\")\n",
        "print(miasta[[\"Miasto\", \"Populacja\"]])"
      ],
      "metadata": {
        "colab": {
          "base_uri": "https://localhost:8080/"
        },
        "id": "m2GN0sDEzLV4",
        "outputId": "514e0f72-32a1-42dc-b1b9-8f92614b8768"
      },
      "execution_count": 13,
      "outputs": [
        {
          "output_type": "stream",
          "name": "stdout",
          "text": [
            "2. Wiele kolumn (zwraca DataFrame):\n",
            "     Miasto  Populacja\n",
            "0  Warszawa    1863056\n",
            "1    Kraków     779966\n",
            "2      Łódź     672185\n",
            "3   Wrocław     643782\n",
            "4    Poznań     532048\n",
            "5    Gdańsk     470907\n",
            "6  Szczecin     395513\n"
          ]
        }
      ]
    },
    {
      "cell_type": "code",
      "source": [
        "print(\"3. Używanie zmiennej z listą kolumn:\")\n",
        "kolumny_do_wyswietlenia = [\"Miasto\", \"Województwo\", \"Populacja\"]\n",
        "print(miasta[kolumny_do_wyswietlenia])"
      ],
      "metadata": {
        "colab": {
          "base_uri": "https://localhost:8080/"
        },
        "id": "Qo7y0NvjzLfq",
        "outputId": "ccefd901-fcb4-4202-9c33-6b7ba2fc9271"
      },
      "execution_count": 14,
      "outputs": [
        {
          "output_type": "stream",
          "name": "stdout",
          "text": [
            "3. Używanie zmiennej z listą kolumn:\n",
            "     Miasto         Województwo  Populacja\n",
            "0  Warszawa         mazowieckie    1863056\n",
            "1    Kraków         małopolskie     779966\n",
            "2      Łódź             łódzkie     672185\n",
            "3   Wrocław        dolnośląskie     643782\n",
            "4    Poznań       wielkopolskie     532048\n",
            "5    Gdańsk           pomorskie     470907\n",
            "6  Szczecin  zachodniopomorskie     395513\n"
          ]
        }
      ]
    },
    {
      "cell_type": "markdown",
      "source": [
        "## CZĘŚĆ 5: FILTROWANIE WIERSZY"
      ],
      "metadata": {
        "id": "ZfvpWbO936wI"
      }
    },
    {
      "cell_type": "code",
      "source": [
        "print(\"1. Miasta z populacją powyżej 600 000:\")\n",
        "print(miasta[miasta[\"Populacja\"] > 600000])"
      ],
      "metadata": {
        "colab": {
          "base_uri": "https://localhost:8080/"
        },
        "id": "Bfkn1XZe4BGV",
        "outputId": "26eee2e3-cff8-453a-abb6-796a705394e1"
      },
      "execution_count": 15,
      "outputs": [
        {
          "output_type": "stream",
          "name": "stdout",
          "text": [
            "1. Miasta z populacją powyżej 600 000:\n",
            "     Miasto   Województwo  Populacja  Powierzchnia_km2  Rok_nadania_praw\n",
            "0  Warszawa   mazowieckie    1863056               517              1413\n",
            "1    Kraków   małopolskie     779966               327              1257\n",
            "2      Łódź       łódzkie     672185               293              1423\n",
            "3   Wrocław  dolnośląskie     643782               293              1242\n"
          ]
        }
      ]
    },
    {
      "cell_type": "code",
      "source": [
        "print(\"2. Miasta z województwa mazowieckiego:\")\n",
        "print(miasta[miasta[\"Województwo\"] == \"mazowieckie\"])"
      ],
      "metadata": {
        "colab": {
          "base_uri": "https://localhost:8080/"
        },
        "id": "iR3nRDSV4ueV",
        "outputId": "32db0eba-6f69-4e3c-bf77-0477665f8e1e"
      },
      "execution_count": 16,
      "outputs": [
        {
          "output_type": "stream",
          "name": "stdout",
          "text": [
            "2. Miasta z województwa mazowieckiego:\n",
            "     Miasto  Województwo  Populacja  Powierzchnia_km2  Rok_nadania_praw\n",
            "0  Warszawa  mazowieckie    1863056               517              1413\n"
          ]
        }
      ]
    },
    {
      "cell_type": "code",
      "source": [
        "print(\"3. Miasta z prawami miejskimi przed 1300 rokiem:\")\n",
        "print(miasta[miasta[\"Rok_nadania_praw\"] < 1300])"
      ],
      "metadata": {
        "colab": {
          "base_uri": "https://localhost:8080/"
        },
        "id": "zpmyBDG34unI",
        "outputId": "0f4ce810-d5b3-4d0e-d3be-4e813240e539"
      },
      "execution_count": 17,
      "outputs": [
        {
          "output_type": "stream",
          "name": "stdout",
          "text": [
            "3. Miasta z prawami miejskimi przed 1300 rokiem:\n",
            "     Miasto         Województwo  Populacja  Powierzchnia_km2  Rok_nadania_praw\n",
            "1    Kraków         małopolskie     779966               327              1257\n",
            "3   Wrocław        dolnośląskie     643782               293              1242\n",
            "4    Poznań       wielkopolskie     532048               262              1253\n",
            "5    Gdańsk           pomorskie     470907               262              1263\n",
            "6  Szczecin  zachodniopomorskie     395513               301              1243\n"
          ]
        }
      ]
    },
    {
      "cell_type": "code",
      "source": [
        "print(\"4. Złożone warunki z operatorem AND (&):\")\n",
        "print(\"   Miasta powyżej 500k ludności I powierzchnia powyżej 280 km²\")\n",
        "duze_miasta = miasta[(miasta[\"Populacja\"] > 500000) &\n",
        "                     (miasta[\"Powierzchnia_km2\"] > 280)]\n",
        "print(duze_miasta)"
      ],
      "metadata": {
        "colab": {
          "base_uri": "https://localhost:8080/"
        },
        "id": "SpsoLEnS4uqV",
        "outputId": "aebc95a0-0953-4f56-a164-d586d58248d5"
      },
      "execution_count": 18,
      "outputs": [
        {
          "output_type": "stream",
          "name": "stdout",
          "text": [
            "4. Złożone warunki z operatorem AND (&):\n",
            "   Miasta powyżej 500k ludności I powierzchnia powyżej 280 km²\n",
            "     Miasto   Województwo  Populacja  Powierzchnia_km2  Rok_nadania_praw\n",
            "0  Warszawa   mazowieckie    1863056               517              1413\n",
            "1    Kraków   małopolskie     779966               327              1257\n",
            "2      Łódź       łódzkie     672185               293              1423\n",
            "3   Wrocław  dolnośląskie     643782               293              1242\n"
          ]
        }
      ]
    },
    {
      "cell_type": "code",
      "source": [
        "print(\"5. Złożone warunki z operatorem OR (|):\")\n",
        "print(\"   Miasta z Warszawy LUB Krakowa\")\n",
        "stolice = miasta[(miasta[\"Miasto\"] == \"Warszawa\") |\n",
        "                 (miasta[\"Miasto\"] == \"Kraków\")]\n",
        "print(stolice)\n"
      ],
      "metadata": {
        "colab": {
          "base_uri": "https://localhost:8080/"
        },
        "id": "TmqT4Q6m4ut0",
        "outputId": "e93439f3-030d-48d0-d70c-18e8aa858826"
      },
      "execution_count": 19,
      "outputs": [
        {
          "output_type": "stream",
          "name": "stdout",
          "text": [
            "5. Złożone warunki z operatorem OR (|):\n",
            "   Miasta z Warszawy LUB Krakowa\n",
            "     Miasto  Województwo  Populacja  Powierzchnia_km2  Rok_nadania_praw\n",
            "0  Warszawa  mazowieckie    1863056               517              1413\n",
            "1    Kraków  małopolskie     779966               327              1257\n"
          ]
        }
      ]
    },
    {
      "cell_type": "code",
      "source": [
        "print(\"6. Używanie .isin() dla wielu wartości:\")\n",
        "wybrane_miasta = [\"Warszawa\", \"Kraków\", \"Wrocław\"]\n",
        "print(miasta[miasta[\"Miasto\"].isin(wybrane_miasta)])"
      ],
      "metadata": {
        "colab": {
          "base_uri": "https://localhost:8080/"
        },
        "id": "32ljqNJm4uxh",
        "outputId": "a1a8a507-f937-476e-8318-e03a102390f5"
      },
      "execution_count": 20,
      "outputs": [
        {
          "output_type": "stream",
          "name": "stdout",
          "text": [
            "6. Używanie .isin() dla wielu wartości:\n",
            "     Miasto   Województwo  Populacja  Powierzchnia_km2  Rok_nadania_praw\n",
            "0  Warszawa   mazowieckie    1863056               517              1413\n",
            "1    Kraków   małopolskie     779966               327              1257\n",
            "3   Wrocław  dolnośląskie     643782               293              1242\n"
          ]
        }
      ]
    },
    {
      "cell_type": "markdown",
      "source": [
        "## CZĘŚĆ 6: DODAWANIE NOWYCH KOLUMN"
      ],
      "metadata": {
        "id": "K41DtqKX5wCf"
      }
    },
    {
      "cell_type": "code",
      "source": [
        "print(\"1. Obliczanie gęstości zaludnienia:\")\n",
        "miasta[\"Gęstość_na_km2\"] = miasta[\"Populacja\"] / miasta[\"Powierzchnia_km2\"]\n",
        "print(miasta[[\"Miasto\", \"Populacja\", \"Powierzchnia_km2\", \"Gęstość_na_km2\"]])"
      ],
      "metadata": {
        "colab": {
          "base_uri": "https://localhost:8080/"
        },
        "id": "-jP0P7F05zaj",
        "outputId": "977ed753-97f3-40b3-8c9d-a10bc5f8ac80"
      },
      "execution_count": 21,
      "outputs": [
        {
          "output_type": "stream",
          "name": "stdout",
          "text": [
            "1. Obliczanie gęstości zaludnienia:\n",
            "     Miasto  Populacja  Powierzchnia_km2  Gęstość_na_km2\n",
            "0  Warszawa    1863056               517     3603.589942\n",
            "1    Kraków     779966               327     2385.217125\n",
            "2      Łódź     672185               293     2294.146758\n",
            "3   Wrocław     643782               293     2197.208191\n",
            "4    Poznań     532048               262     2030.717557\n",
            "5    Gdańsk     470907               262     1797.354962\n",
            "6  Szczecin     395513               301     1313.996678\n"
          ]
        }
      ]
    },
    {
      "cell_type": "code",
      "source": [
        "print(\"2. Kategoryzacja miast według wielkości:\")\n",
        "def kategoryzuj_miasto(populacja):\n",
        "    if populacja > 1000000:\n",
        "        return \"Bardzo duże\"\n",
        "    elif populacja > 500000:\n",
        "        return \"Duże\"\n",
        "    else:\n",
        "        return \"Średnie\"\n",
        "\n",
        "miasta[\"Kategoria\"] = miasta[\"Populacja\"].apply(kategoryzuj_miasto)\n",
        "print(miasta[[\"Miasto\", \"Populacja\", \"Kategoria\"]])"
      ],
      "metadata": {
        "colab": {
          "base_uri": "https://localhost:8080/"
        },
        "id": "5pECuBXQ6lzI",
        "outputId": "c6decdb9-17c1-4117-aff9-41a16d4ef9ba"
      },
      "execution_count": 22,
      "outputs": [
        {
          "output_type": "stream",
          "name": "stdout",
          "text": [
            "2. Kategoryzacja miast według wielkości:\n",
            "     Miasto  Populacja    Kategoria\n",
            "0  Warszawa    1863056  Bardzo duże\n",
            "1    Kraków     779966         Duże\n",
            "2      Łódź     672185         Duże\n",
            "3   Wrocław     643782         Duże\n",
            "4    Poznań     532048         Duże\n",
            "5    Gdańsk     470907      Średnie\n",
            "6  Szczecin     395513      Średnie\n"
          ]
        }
      ]
    },
    {
      "cell_type": "markdown",
      "source": [
        "# **Zadania**"
      ],
      "metadata": {
        "id": "vHDBpbq16qRt"
      }
    },
    {
      "cell_type": "code",
      "source": [
        "# Dataset do zadań\n",
        "temperatura = pd.DataFrame({\n",
        "    'Miasto': ['Warszawa', 'Kraków', 'Gdańsk', 'Wrocław', 'Poznań', 'Łódź'],\n",
        "    'Styczeń': [-2, -1, 0, -1, -2, -3],\n",
        "    'Kwiecień': [9, 10, 8, 11, 10, 9],\n",
        "    'Lipiec': [19, 20, 17, 21, 19, 20],\n",
        "    'Październik': [9, 9, 10, 10, 9, 8]\n",
        "})\n",
        "\n",
        "print(\"Dataset 'temperatura' - średnie temperatury w polskich miastach:\")\n",
        "print(temperatura)"
      ],
      "metadata": {
        "colab": {
          "base_uri": "https://localhost:8080/"
        },
        "id": "azJ0u_Nm6x-R",
        "outputId": "3d8449ad-8062-45bd-e666-aa7be2322f8f"
      },
      "execution_count": 23,
      "outputs": [
        {
          "output_type": "stream",
          "name": "stdout",
          "text": [
            "Dataset 'temperatura' - średnie temperatury w polskich miastach:\n",
            "     Miasto  Styczeń  Kwiecień  Lipiec  Październik\n",
            "0  Warszawa       -2         9      19            9\n",
            "1    Kraków       -1        10      20            9\n",
            "2    Gdańsk        0         8      17           10\n",
            "3   Wrocław       -1        11      21           10\n",
            "4    Poznań       -2        10      19            9\n",
            "5      Łódź       -3         9      20            8\n"
          ]
        }
      ]
    },
    {
      "cell_type": "markdown",
      "source": [
        "## **Zadanie 1: podstawowa inspekcja**\n",
        "\n",
        "Używając DataFrame `temperatura`, wykonaj następujące operacje:\n",
        "\n",
        "a) Wyświetl pierwsze 3 wiersze\n",
        "\n",
        "b) Wyświetl informacje o typach danych (.info())\n",
        "\n",
        "c) Wyświetl kształt DataFrame (.shape)\n",
        "\n",
        "d) Wyświetl tylko nazwy kolumn (.columns)"
      ],
      "metadata": {
        "id": "T9V6fZNC67e0"
      }
    },
    {
      "cell_type": "code",
      "source": [
        "print(temperatura.head(3))"
      ],
      "metadata": {
        "id": "teGLqyvt7MpV",
        "colab": {
          "base_uri": "https://localhost:8080/"
        },
        "outputId": "ed1aabd6-9d6a-4cb2-cf37-b7a7b4c06747"
      },
      "execution_count": 24,
      "outputs": [
        {
          "output_type": "stream",
          "name": "stdout",
          "text": [
            "     Miasto  Styczeń  Kwiecień  Lipiec  Październik\n",
            "0  Warszawa       -2         9      19            9\n",
            "1    Kraków       -1        10      20            9\n",
            "2    Gdańsk        0         8      17           10\n"
          ]
        }
      ]
    },
    {
      "cell_type": "code",
      "source": [
        "print(temperatura.info())"
      ],
      "metadata": {
        "id": "1IHol11A7V8l",
        "colab": {
          "base_uri": "https://localhost:8080/"
        },
        "outputId": "b290d7b1-a3b8-42da-ab30-9979eb1145a4"
      },
      "execution_count": 25,
      "outputs": [
        {
          "output_type": "stream",
          "name": "stdout",
          "text": [
            "<class 'pandas.core.frame.DataFrame'>\n",
            "RangeIndex: 6 entries, 0 to 5\n",
            "Data columns (total 5 columns):\n",
            " #   Column       Non-Null Count  Dtype \n",
            "---  ------       --------------  ----- \n",
            " 0   Miasto       6 non-null      object\n",
            " 1   Styczeń      6 non-null      int64 \n",
            " 2   Kwiecień     6 non-null      int64 \n",
            " 3   Lipiec       6 non-null      int64 \n",
            " 4   Październik  6 non-null      int64 \n",
            "dtypes: int64(4), object(1)\n",
            "memory usage: 372.0+ bytes\n",
            "None\n"
          ]
        }
      ]
    },
    {
      "cell_type": "code",
      "source": [
        "print(temperatura.shape)"
      ],
      "metadata": {
        "colab": {
          "base_uri": "https://localhost:8080/"
        },
        "id": "bQkZtyECRpeX",
        "outputId": "033abbd6-025f-4bae-988b-c3e7d63981c7"
      },
      "execution_count": 26,
      "outputs": [
        {
          "output_type": "stream",
          "name": "stdout",
          "text": [
            "(6, 5)\n"
          ]
        }
      ]
    },
    {
      "cell_type": "code",
      "source": [
        "print(temperatura.columns)"
      ],
      "metadata": {
        "colab": {
          "base_uri": "https://localhost:8080/"
        },
        "id": "UeI1D_gxRzqW",
        "outputId": "2eb2c15a-11ee-4566-e68a-779ddb0f2866"
      },
      "execution_count": 27,
      "outputs": [
        {
          "output_type": "stream",
          "name": "stdout",
          "text": [
            "Index(['Miasto', 'Styczeń', 'Kwiecień', 'Lipiec', 'Październik'], dtype='object')\n"
          ]
        }
      ]
    },
    {
      "cell_type": "markdown",
      "source": [
        "## **Zadanie 2: sortowanie**\n",
        "\n",
        "a) Posortuj miasta według temperatury w lipcu (rosnąco)\n",
        "\n",
        "b) Posortuj miasta według temperatury w styczniu (malejąco)\n",
        "\n",
        "c) Posortuj miasta według temperatury w lipcu (malejąco), a następnie według kwietnia (rosnąco)"
      ],
      "metadata": {
        "id": "kLt64lbF7TQ-"
      }
    },
    {
      "cell_type": "code",
      "source": [
        "print(\"1. Sortowanie rosnąco po temperaturze\")\n",
        "print(temperatura.sort_values(\"Lipiec\").head())"
      ],
      "metadata": {
        "colab": {
          "base_uri": "https://localhost:8080/"
        },
        "id": "xEqEqkgzSyUd",
        "outputId": "f82aaf2f-5e7d-4154-d104-27067391e61e"
      },
      "execution_count": 28,
      "outputs": [
        {
          "output_type": "stream",
          "name": "stdout",
          "text": [
            "1. Sortowanie rosnąco po temperaturze\n",
            "     Miasto  Styczeń  Kwiecień  Lipiec  Październik\n",
            "2    Gdańsk        0         8      17           10\n",
            "0  Warszawa       -2         9      19            9\n",
            "4    Poznań       -2        10      19            9\n",
            "1    Kraków       -1        10      20            9\n",
            "5      Łódź       -3         9      20            8\n"
          ]
        }
      ]
    },
    {
      "cell_type": "code",
      "source": [
        "print(\"2. Sortowanie malejąco po temperaturze\")\n",
        "print(temperatura.sort_values(\"Styczeń\", ascending=False).head())"
      ],
      "metadata": {
        "id": "OwuaJUiT78mn",
        "colab": {
          "base_uri": "https://localhost:8080/"
        },
        "outputId": "a590c694-231e-4fd2-9b47-288b2181314c"
      },
      "execution_count": 29,
      "outputs": [
        {
          "output_type": "stream",
          "name": "stdout",
          "text": [
            "2. Sortowanie malejąco po temperaturze\n",
            "     Miasto  Styczeń  Kwiecień  Lipiec  Październik\n",
            "2    Gdańsk        0         8      17           10\n",
            "1    Kraków       -1        10      20            9\n",
            "3   Wrocław       -1        11      21           10\n",
            "0  Warszawa       -2         9      19            9\n",
            "4    Poznań       -2        10      19            9\n"
          ]
        }
      ]
    },
    {
      "cell_type": "code",
      "source": [
        "print(\"3.Sortowanie według temperatury w lipcu a potem w kwietniu\")\n",
        "print(temperatura.sort_values([\"Lipiec\",\"Kwiecień\"], ascending=[True, False]))"
      ],
      "metadata": {
        "colab": {
          "base_uri": "https://localhost:8080/"
        },
        "id": "RCNYJV6HWxv8",
        "outputId": "156f22fa-cb62-43f4-b939-b0d30ebc886a"
      },
      "execution_count": 30,
      "outputs": [
        {
          "output_type": "stream",
          "name": "stdout",
          "text": [
            "3.Sortowanie według temperatury w lipcu a potem w kwietniu\n",
            "     Miasto  Styczeń  Kwiecień  Lipiec  Październik\n",
            "2    Gdańsk        0         8      17           10\n",
            "4    Poznań       -2        10      19            9\n",
            "0  Warszawa       -2         9      19            9\n",
            "1    Kraków       -1        10      20            9\n",
            "5      Łódź       -3         9      20            8\n",
            "3   Wrocław       -1        11      21           10\n"
          ]
        }
      ]
    },
    {
      "cell_type": "markdown",
      "source": [
        "## **Zadanie 3: Wybieranie kolumn**\n",
        "\n",
        "a) Wybierz tylko kolumnę 'Miasto' (wynik: Series)\n",
        "\n",
        "b) Wybierz kolumny 'Miasto' i 'Lipiec' (wynik: DataFrame)\n",
        "\n",
        "c) Wybierz kolumny 'Miasto', 'Styczeń' i 'Lipiec', używając zmiennej z listą nazw kolumn"
      ],
      "metadata": {
        "id": "MF4HmRAu8lv7"
      }
    },
    {
      "cell_type": "code",
      "source": [
        "print(\"a) Wybierz tylko kolumnę 'Miasto' (wynik: Series)\")\n",
        "print(miasta[\"Miasto\"])\n"
      ],
      "metadata": {
        "id": "ap_g67I89T2d",
        "colab": {
          "base_uri": "https://localhost:8080/"
        },
        "outputId": "361d8545-7e2f-4d2a-c5ea-df0cca932f0b"
      },
      "execution_count": 31,
      "outputs": [
        {
          "output_type": "stream",
          "name": "stdout",
          "text": [
            "a) Wybierz tylko kolumnę 'Miasto' (wynik: Series)\n",
            "0    Warszawa\n",
            "1      Kraków\n",
            "2        Łódź\n",
            "3     Wrocław\n",
            "4      Poznań\n",
            "5      Gdańsk\n",
            "6    Szczecin\n",
            "Name: Miasto, dtype: object\n"
          ]
        }
      ]
    },
    {
      "cell_type": "code",
      "source": [
        "print(\"b) Wybierz kolumny 'Miasto' i 'Lipiec' (wynik: DataFrame)\")\n",
        "print(temperatura[[\"Miasto\", \"Lipiec\"]])"
      ],
      "metadata": {
        "colab": {
          "base_uri": "https://localhost:8080/"
        },
        "id": "DHeStut_Y_6Q",
        "outputId": "6d6d6cfc-8d7b-47e1-c2fd-8a3fb4478303"
      },
      "execution_count": 32,
      "outputs": [
        {
          "output_type": "stream",
          "name": "stdout",
          "text": [
            "b) Wybierz kolumny 'Miasto' i 'Lipiec' (wynik: DataFrame)\n",
            "     Miasto  Lipiec\n",
            "0  Warszawa      19\n",
            "1    Kraków      20\n",
            "2    Gdańsk      17\n",
            "3   Wrocław      21\n",
            "4    Poznań      19\n",
            "5      Łódź      20\n"
          ]
        }
      ]
    },
    {
      "cell_type": "code",
      "source": [
        "print(\"c) Wybierz kolumny 'Miasto', 'Styczeń' i 'Lipiec', używając zmiennej z listą nazw kolumn\")\n",
        "lista_kolumn =[\"Miasto\", \"Województwo\", \"Populacja\"]\n",
        "print(miasta[lista_kolumn])"
      ],
      "metadata": {
        "colab": {
          "base_uri": "https://localhost:8080/"
        },
        "id": "dbUDzkQ5Z3K3",
        "outputId": "51d334fb-8d16-46ae-bccf-65f7094e1f31"
      },
      "execution_count": 33,
      "outputs": [
        {
          "output_type": "stream",
          "name": "stdout",
          "text": [
            "c) Wybierz kolumny 'Miasto', 'Styczeń' i 'Lipiec', używając zmiennej z listą nazw kolumn\n",
            "     Miasto         Województwo  Populacja\n",
            "0  Warszawa         mazowieckie    1863056\n",
            "1    Kraków         małopolskie     779966\n",
            "2      Łódź             łódzkie     672185\n",
            "3   Wrocław        dolnośląskie     643782\n",
            "4    Poznań       wielkopolskie     532048\n",
            "5    Gdańsk           pomorskie     470907\n",
            "6  Szczecin  zachodniopomorskie     395513\n"
          ]
        }
      ]
    },
    {
      "cell_type": "markdown",
      "source": [
        "## **Zadanie 4: Filtrowanie**\n",
        "a) Znajdź miasta, gdzie temperatura w lipcu jest większa niż 19 stopni\n",
        "\n",
        "b) Znajdź miasta, gdzie temperatura w styczniu jest większa lub równa -1\n",
        "\n",
        "c) Znajdź miasta, gdzie temperatura w kwietniu wynosi dokładnie 10 stopni\n",
        "\n",
        "d) Znajdź miasta, gdzie temperatura w lipcu jest 20 LUB temperatura w styczniu jest -1"
      ],
      "metadata": {
        "id": "Y4p3GykD9ato"
      }
    },
    {
      "cell_type": "code",
      "source": [
        "print(\"a) Znajdź miasta, gdzie temperatura w lipcu jest większa niż 19 stopni\")\n",
        "print(temperatura[temperatura[\"Lipiec\"] > 19])"
      ],
      "metadata": {
        "id": "MuNaWxTp9xwS",
        "colab": {
          "base_uri": "https://localhost:8080/"
        },
        "outputId": "1c05033f-c1a1-47c9-f251-d170053c97ae"
      },
      "execution_count": 34,
      "outputs": [
        {
          "output_type": "stream",
          "name": "stdout",
          "text": [
            "a) Znajdź miasta, gdzie temperatura w lipcu jest większa niż 19 stopni\n",
            "    Miasto  Styczeń  Kwiecień  Lipiec  Październik\n",
            "1   Kraków       -1        10      20            9\n",
            "3  Wrocław       -1        11      21           10\n",
            "5     Łódź       -3         9      20            8\n"
          ]
        }
      ]
    },
    {
      "cell_type": "code",
      "source": [
        "print(\"b) Znajdź miasta, gdzie temperatura w styczniu jest większa lub równa -1\")\n",
        "print(temperatura[temperatura[\"Styczeń\"] >= -1])"
      ],
      "metadata": {
        "colab": {
          "base_uri": "https://localhost:8080/"
        },
        "id": "5n_O76ilb4Is",
        "outputId": "87a7e85e-bc50-41f7-d17d-ed1b72970422"
      },
      "execution_count": 35,
      "outputs": [
        {
          "output_type": "stream",
          "name": "stdout",
          "text": [
            "b) Znajdź miasta, gdzie temperatura w styczniu jest większa lub równa -1\n",
            "    Miasto  Styczeń  Kwiecień  Lipiec  Październik\n",
            "1   Kraków       -1        10      20            9\n",
            "2   Gdańsk        0         8      17           10\n",
            "3  Wrocław       -1        11      21           10\n"
          ]
        }
      ]
    },
    {
      "cell_type": "code",
      "source": [
        "print(\"c) Znajdź miasta, gdzie temperatura w kwietniu wynosi dokładnie 10 stopni\")\n",
        "print(temperatura[temperatura[\"Kwiecień\"] == 10])"
      ],
      "metadata": {
        "colab": {
          "base_uri": "https://localhost:8080/"
        },
        "id": "6tZU8p74cYEh",
        "outputId": "aca38db7-1ff1-4944-9165-f8976d421493"
      },
      "execution_count": 36,
      "outputs": [
        {
          "output_type": "stream",
          "name": "stdout",
          "text": [
            "c) Znajdź miasta, gdzie temperatura w kwietniu wynosi dokładnie 10 stopni\n",
            "   Miasto  Styczeń  Kwiecień  Lipiec  Październik\n",
            "1  Kraków       -1        10      20            9\n",
            "4  Poznań       -2        10      19            9\n"
          ]
        }
      ]
    },
    {
      "cell_type": "code",
      "source": [
        "print(\"d) Znajdź miasta, gdzie temperatura w lipcu jest 20 LUB temperatura w styczniu jest -1\")\n",
        "print(temperatura[(temperatura[\"Lipiec\"] == 20) | (temperatura[\"Styczeń\"] == -1)])"
      ],
      "metadata": {
        "colab": {
          "base_uri": "https://localhost:8080/"
        },
        "id": "nmPzOXNedC07",
        "outputId": "3f45629b-27d9-4356-f19e-6ddcbed444e1"
      },
      "execution_count": 37,
      "outputs": [
        {
          "output_type": "stream",
          "name": "stdout",
          "text": [
            "d) Znajdź miasta, gdzie temperatura w lipcu jest 20 LUB temperatura w styczniu jest -1\n",
            "    Miasto  Styczeń  Kwiecień  Lipiec  Październik\n",
            "1   Kraków       -1        10      20            9\n",
            "3  Wrocław       -1        11      21           10\n",
            "5     Łódź       -3         9      20            8\n"
          ]
        }
      ]
    },
    {
      "cell_type": "markdown",
      "source": [
        "## **Zadanie 5: Złożone filtrowanie**\n",
        "a) Znajdź miasta, gdzie temperatura w lipcu > 18 ORAZ w styczniu >= -2\n",
        "\n",
        "b) Znajdź miasta: 'Warszawa', 'Kraków', 'Gdańsk'\n",
        "\n",
        "c) Znajdź miasta, gdzie temperatura w lipcu jest między 18 a 20 stopni (włącznie)"
      ],
      "metadata": {
        "id": "NFSh_sgt9yS8"
      }
    },
    {
      "cell_type": "code",
      "source": [
        "print(\"a) Znajdź miasta, gdzie temperatura w lipcu > 18 ORAZ w styczniu >= -2\")\n",
        "print(temperatura[(temperatura[\"Lipiec\"] > 18) & (temperatura[\"Styczeń\"] >= -2)])"
      ],
      "metadata": {
        "id": "C9hpjCIO-zeH",
        "colab": {
          "base_uri": "https://localhost:8080/"
        },
        "outputId": "5180b04c-38f5-48ce-847a-74a059746958"
      },
      "execution_count": 38,
      "outputs": [
        {
          "output_type": "stream",
          "name": "stdout",
          "text": [
            "a) Znajdź miasta, gdzie temperatura w lipcu > 18 ORAZ w styczniu >= -2\n",
            "     Miasto  Styczeń  Kwiecień  Lipiec  Październik\n",
            "0  Warszawa       -2         9      19            9\n",
            "1    Kraków       -1        10      20            9\n",
            "3   Wrocław       -1        11      21           10\n",
            "4    Poznań       -2        10      19            9\n"
          ]
        }
      ]
    },
    {
      "cell_type": "code",
      "source": [
        "print(\"b) Znajdź miasta: 'Warszawa', 'Kraków', 'Gdańsk'\")\n",
        "print(temperatura[temperatura[\"Miasto\"].isin([\"Warszawa\", \"Kraków\", \"Gdańsk\"])])"
      ],
      "metadata": {
        "colab": {
          "base_uri": "https://localhost:8080/"
        },
        "id": "hx-TBraYeX4R",
        "outputId": "6a6932df-ee37-4f6b-c24c-67637490421f"
      },
      "execution_count": 39,
      "outputs": [
        {
          "output_type": "stream",
          "name": "stdout",
          "text": [
            "b) Znajdź miasta: 'Warszawa', 'Kraków', 'Gdańsk'\n",
            "     Miasto  Styczeń  Kwiecień  Lipiec  Październik\n",
            "0  Warszawa       -2         9      19            9\n",
            "1    Kraków       -1        10      20            9\n",
            "2    Gdańsk        0         8      17           10\n"
          ]
        }
      ]
    },
    {
      "cell_type": "code",
      "source": [
        "print(\"c) Znajdź miasta, gdzie temperatura w lipcu jest między 18 a 20 stopni (włącznie)\")\n",
        "print(temperatura[temperatura[\"Lipiec\"].between(18, 20)])"
      ],
      "metadata": {
        "colab": {
          "base_uri": "https://localhost:8080/"
        },
        "id": "0mwel1CZfM7C",
        "outputId": "74be36b2-5584-45e0-c3d7-1c2da9fd12af"
      },
      "execution_count": 40,
      "outputs": [
        {
          "output_type": "stream",
          "name": "stdout",
          "text": [
            "c) Znajdź miasta, gdzie temperatura w lipcu jest między 18 a 20 stopni (włącznie)\n",
            "     Miasto  Styczeń  Kwiecień  Lipiec  Październik\n",
            "0  Warszawa       -2         9      19            9\n",
            "1    Kraków       -1        10      20            9\n",
            "4    Poznań       -2        10      19            9\n",
            "5      Łódź       -3         9      20            8\n"
          ]
        }
      ]
    },
    {
      "cell_type": "markdown",
      "source": [
        "## **Zadanie 6: Dodawanie nowych kolumn**\n",
        "a) Dodaj kolumnę 'Średnia_roczna' - średnia z wszystkich miesięcy\n",
        "\n",
        "b) Dodaj kolumnę 'Amplituda' - różnica między lipcem a styczniem\n",
        "\n",
        "c) Dodaj kolumnę 'Ciepłe_miasto' (True jeśli średnia roczna > 11, False w przeciwnym razie)"
      ],
      "metadata": {
        "id": "kRkFnU3Y-1nD"
      }
    },
    {
      "cell_type": "code",
      "source": [
        "print(\"a) Dodaj kolumnę 'Średnia_roczna' - średnia z wszystkich miesięcy\")\n",
        "temperatura[\"Średnia_roczna\"] = temperatura[[\"Styczeń\", \"Kwiecień\", \"Lipiec\", \"Październik\"]].mean(axis=1)\n",
        "print(temperatura)"
      ],
      "metadata": {
        "id": "4FHpDciR-RMn",
        "colab": {
          "base_uri": "https://localhost:8080/"
        },
        "outputId": "a3c09e20-78dd-4169-b37c-f77e77e25e9a"
      },
      "execution_count": 41,
      "outputs": [
        {
          "output_type": "stream",
          "name": "stdout",
          "text": [
            "a) Dodaj kolumnę 'Średnia_roczna' - średnia z wszystkich miesięcy\n",
            "     Miasto  Styczeń  Kwiecień  Lipiec  Październik  Średnia_roczna\n",
            "0  Warszawa       -2         9      19            9            8.75\n",
            "1    Kraków       -1        10      20            9            9.50\n",
            "2    Gdańsk        0         8      17           10            8.75\n",
            "3   Wrocław       -1        11      21           10           10.25\n",
            "4    Poznań       -2        10      19            9            9.00\n",
            "5      Łódź       -3         9      20            8            8.50\n"
          ]
        }
      ]
    },
    {
      "cell_type": "code",
      "source": [
        "print(\"b) Dodaj kolumnę 'Amplituda' - różnica między lipcem a styczniem\")\n",
        "temperatura[\"Amplituda\"] = temperatura[\"Lipiec\"] - temperatura[\"Styczeń\"]\n",
        "print(temperatura)"
      ],
      "metadata": {
        "colab": {
          "base_uri": "https://localhost:8080/"
        },
        "id": "DD1c-fXYhgW8",
        "outputId": "74965aff-688d-4a02-9d83-b912d847f9df"
      },
      "execution_count": 42,
      "outputs": [
        {
          "output_type": "stream",
          "name": "stdout",
          "text": [
            "b) Dodaj kolumnę 'Amplituda' - różnica między lipcem a styczniem\n",
            "     Miasto  Styczeń  Kwiecień  Lipiec  Październik  Średnia_roczna  Amplituda\n",
            "0  Warszawa       -2         9      19            9            8.75         21\n",
            "1    Kraków       -1        10      20            9            9.50         21\n",
            "2    Gdańsk        0         8      17           10            8.75         17\n",
            "3   Wrocław       -1        11      21           10           10.25         22\n",
            "4    Poznań       -2        10      19            9            9.00         21\n",
            "5      Łódź       -3         9      20            8            8.50         23\n"
          ]
        }
      ]
    },
    {
      "cell_type": "code",
      "source": [
        "print(\"c) Dodaj kolumnę 'Ciepłe_miasto' (True jeśli średnia roczna > 11, False w przeciwnym razie)\")\n",
        "temperatura[\"Ciepłe_miasto\"] = temperatura[\"Średnia_roczna\"] > 11\n",
        "print(temperatura)"
      ],
      "metadata": {
        "colab": {
          "base_uri": "https://localhost:8080/"
        },
        "id": "wAxTq3mqhp70",
        "outputId": "eb4778ec-28c1-464a-c221-c26219c32b81"
      },
      "execution_count": 43,
      "outputs": [
        {
          "output_type": "stream",
          "name": "stdout",
          "text": [
            "c) Dodaj kolumnę 'Ciepłe_miasto' (True jeśli średnia roczna > 11, False w przeciwnym razie)\n",
            "     Miasto  Styczeń  Kwiecień  Lipiec  Październik  Średnia_roczna  \\\n",
            "0  Warszawa       -2         9      19            9            8.75   \n",
            "1    Kraków       -1        10      20            9            9.50   \n",
            "2    Gdańsk        0         8      17           10            8.75   \n",
            "3   Wrocław       -1        11      21           10           10.25   \n",
            "4    Poznań       -2        10      19            9            9.00   \n",
            "5      Łódź       -3         9      20            8            8.50   \n",
            "\n",
            "   Amplituda  Ciepłe_miasto  \n",
            "0         21          False  \n",
            "1         21          False  \n",
            "2         17          False  \n",
            "3         22          False  \n",
            "4         21          False  \n",
            "5         23          False  \n"
          ]
        }
      ]
    },
    {
      "cell_type": "markdown",
      "source": [
        "## **Zadanie: zaawansowane**\n",
        "\n",
        "\n",
        "```\n",
        "# Nowy dataset dla zaawansowanego zadania\n",
        "wyniki_egzaminy = pd.DataFrame({\n",
        "    'Student': ['Anna', 'Bartek', 'Celina', 'Damian', 'Ewa', 'Filip', 'Gabriela', 'Hubert'],\n",
        "    'Matematyka': [85, 92, 78, 88, 95, 72, 89, 81],\n",
        "    'Fizyka': [78, 88, 82, 75, 91, 68, 85, 79],\n",
        "    'Informatyka': [92, 85, 88, 90, 89, 95, 82, 87],\n",
        "    'Kierunek': ['Informatyka', 'Fizyka', 'Matematyka', 'Informatyka',\n",
        "                 'Matematyka', 'Informatyka', 'Fizyka', 'Matematyka']\n",
        "})\n",
        "```\n",
        "\n",
        "\n",
        "\n",
        "\n",
        "\n",
        "a) Dodaj kolumnę 'Średnia' z wyników z trzech przedmiotów\n",
        "\n",
        "b) Dodaj kolumnę 'Status' - 'Zaliczony' jeśli średnia >= 85, 'Niezaliczony' w przeciwnym razie\n",
        "\n",
        "c) Dla każdego kierunku znajdź studenta z najwyższą średnią:\n",
        "   - Przefiltruj po kierunku\n",
        "   - Posortuj według średniej malejąco\n",
        "   - Weź pierwszy wiersz\n",
        "   - Wykonaj dla każdego z 3 kierunków\n",
        "\n",
        "d) Znajdź wszystkich studentów informatyki, którzy mają średnią >= 85\n",
        "   i wynik z informatyki >= 90, posortowanych według średniej malejąco"
      ],
      "metadata": {
        "id": "nGOMr7Y1_88K"
      }
    },
    {
      "cell_type": "code",
      "metadata": {
        "colab": {
          "base_uri": "https://localhost:8080/"
        },
        "id": "R_9bGPStjdp1",
        "outputId": "b560e0f1-0b7e-49a9-c40e-0335135a7ef5"
      },
      "source": [
        "wyniki_egzaminy = pd.DataFrame({\n",
        "    'Student': ['Anna', 'Bartek', 'Celina', 'Damian', 'Ewa', 'Filip', 'Gabriela', 'Hubert'],\n",
        "    'Matematyka': [85, 92, 78, 88, 95, 72, 89, 81],\n",
        "    'Fizyka': [78, 88, 82, 75, 91, 68, 85, 79],\n",
        "    'Informatyka': [92, 85, 88, 90, 89, 95, 82, 87],\n",
        "    'Kierunek': ['Informatyka', 'Fizyka', 'Matematyka', 'Informatyka',\n",
        "                 'Matematyka', 'Informatyka', 'Fizyka', 'Matematyka']\n",
        "})\n",
        "\n",
        "wyniki_egzaminy[\"Średnia\"] = wyniki_egzaminy[[\"Matematyka\", \"Fizyka\", \"Informatyka\"]].mean(axis=1)\n",
        "print(\"a) Dodaj kolumnę 'Średnia' z wyników z trzech przedmiotów\")\n",
        "print(wyniki_egzaminy)"
      ],
      "execution_count": 44,
      "outputs": [
        {
          "output_type": "stream",
          "name": "stdout",
          "text": [
            "a) Dodaj kolumnę 'Średnia' z wyników z trzech przedmiotów\n",
            "    Student  Matematyka  Fizyka  Informatyka     Kierunek    Średnia\n",
            "0      Anna          85      78           92  Informatyka  85.000000\n",
            "1    Bartek          92      88           85       Fizyka  88.333333\n",
            "2    Celina          78      82           88   Matematyka  82.666667\n",
            "3    Damian          88      75           90  Informatyka  84.333333\n",
            "4       Ewa          95      91           89   Matematyka  91.666667\n",
            "5     Filip          72      68           95  Informatyka  78.333333\n",
            "6  Gabriela          89      85           82       Fizyka  85.333333\n",
            "7    Hubert          81      79           87   Matematyka  82.333333\n"
          ]
        }
      ]
    },
    {
      "cell_type": "code",
      "metadata": {
        "colab": {
          "base_uri": "https://localhost:8080/"
        },
        "id": "3b1ae869",
        "outputId": "81eae991-93d8-47cb-f321-ab6bc3df19ac"
      },
      "source": [
        "print(\"b) Dodaj kolumnę 'Status' - 'Zaliczony' jeśli średnia >= 85, 'Niezaliczony' w przeciwnym razie\")\n",
        "wyniki_egzaminy[\"Status\"] = wyniki_egzaminy[\"Średnia\"].apply(lambda x: \"Zaliczony\" if x >= 85 else \"Niezaliczony\")\n",
        "print(wyniki_egzaminy)"
      ],
      "execution_count": 45,
      "outputs": [
        {
          "output_type": "stream",
          "name": "stdout",
          "text": [
            "b) Dodaj kolumnę 'Status' - 'Zaliczony' jeśli średnia >= 85, 'Niezaliczony' w przeciwnym razie\n",
            "    Student  Matematyka  Fizyka  Informatyka     Kierunek    Średnia  \\\n",
            "0      Anna          85      78           92  Informatyka  85.000000   \n",
            "1    Bartek          92      88           85       Fizyka  88.333333   \n",
            "2    Celina          78      82           88   Matematyka  82.666667   \n",
            "3    Damian          88      75           90  Informatyka  84.333333   \n",
            "4       Ewa          95      91           89   Matematyka  91.666667   \n",
            "5     Filip          72      68           95  Informatyka  78.333333   \n",
            "6  Gabriela          89      85           82       Fizyka  85.333333   \n",
            "7    Hubert          81      79           87   Matematyka  82.333333   \n",
            "\n",
            "         Status  \n",
            "0     Zaliczony  \n",
            "1     Zaliczony  \n",
            "2  Niezaliczony  \n",
            "3  Niezaliczony  \n",
            "4     Zaliczony  \n",
            "5  Niezaliczony  \n",
            "6     Zaliczony  \n",
            "7  Niezaliczony  \n"
          ]
        }
      ]
    },
    {
      "cell_type": "code",
      "metadata": {
        "colab": {
          "base_uri": "https://localhost:8080/"
        },
        "id": "d4bdc41b",
        "outputId": "8295f9e6-e4a5-48b8-cb27-13821b555ad2"
      },
      "source": [
        "print(\"c) Dla każdego kierunku znajdź studenta z najwyższą średnią:\")\n",
        "\n",
        "# unikalne kierunki\n",
        "kierunki = wyniki_egzaminy['Kierunek'].unique()\n",
        "\n",
        "for kierunek in kierunki:\n",
        "    print(f\"\\nNajlepszy student na kierunku: {kierunek}\")\n",
        "\n",
        "    najlepszy_student = wyniki_egzaminy[wyniki_egzaminy['Kierunek'] == kierunek].sort_values('Średnia', ascending=False).head(1)\n",
        "    print(najlepszy_student)"
      ],
      "execution_count": 46,
      "outputs": [
        {
          "output_type": "stream",
          "name": "stdout",
          "text": [
            "c) Dla każdego kierunku znajdź studenta z najwyższą średnią:\n",
            "\n",
            "Najlepszy student na kierunku: Informatyka\n",
            "  Student  Matematyka  Fizyka  Informatyka     Kierunek  Średnia     Status\n",
            "0    Anna          85      78           92  Informatyka     85.0  Zaliczony\n",
            "\n",
            "Najlepszy student na kierunku: Fizyka\n",
            "  Student  Matematyka  Fizyka  Informatyka Kierunek    Średnia     Status\n",
            "1  Bartek          92      88           85   Fizyka  88.333333  Zaliczony\n",
            "\n",
            "Najlepszy student na kierunku: Matematyka\n",
            "  Student  Matematyka  Fizyka  Informatyka    Kierunek    Średnia     Status\n",
            "4     Ewa          95      91           89  Matematyka  91.666667  Zaliczony\n"
          ]
        }
      ]
    },
    {
      "cell_type": "code",
      "metadata": {
        "id": "aa383251",
        "colab": {
          "base_uri": "https://localhost:8080/"
        },
        "outputId": "d7a2eef1-f42c-42e3-e022-850a9fbefe5a"
      },
      "source": [
        "print(\"d) Znajdź wszystkich studentów informatyki, którzy mają średnią >= 85 i wynik z informatyki >= 90, posortowanych według średniej malejąco\")\n",
        "\n",
        "informatyka_studenci = wyniki_egzaminy[\n",
        "    (wyniki_egzaminy['Kierunek'] == 'Informatyka') &\n",
        "    (wyniki_egzaminy['Średnia'] >= 85) &\n",
        "    (wyniki_egzaminy['Informatyka'] >= 90)\n",
        "].sort_values('Średnia', ascending=False)\n",
        "\n",
        "print(informatyka_studenci)"
      ],
      "execution_count": 47,
      "outputs": [
        {
          "output_type": "stream",
          "name": "stdout",
          "text": [
            "d) Znajdź wszystkich studentów informatyki, którzy mają średnią >= 85 i wynik z informatyki >= 90, posortowanych według średniej malejąco\n",
            "  Student  Matematyka  Fizyka  Informatyka     Kierunek  Średnia     Status\n",
            "0    Anna          85      78           92  Informatyka     85.0  Zaliczony\n"
          ]
        }
      ]
    }
  ]
}